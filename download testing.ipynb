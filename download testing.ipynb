{
 "cells": [
  {
   "cell_type": "code",
   "execution_count": 1,
   "metadata": {},
   "outputs": [],
   "source": [
    "# Test out download loop\n",
    "\n",
    "## Constants for testing ##\n",
    "# Test file path: /home/ross/Desktop/text.txt\n",
    "ftpserv = 'speedtest.tele2.net'\n",
    "username = 'anonymous'\n",
    "password = 'a'\n",
    "\n",
    "# Import modules\n",
    "import ftplib\n",
    "from ftplib import FTP\n",
    "\n",
    "# Setting Globals\n",
    "Connecting = True\n",
    "Running = True"
   ]
  },
  {
   "cell_type": "code",
   "execution_count": 2,
   "metadata": {},
   "outputs": [],
   "source": [
    "# Connect to FTP server\n",
    "def FTP_Connect(ftpserv,username,password):\n",
    "    global Running\n",
    "    global Connecting\n",
    "    global ftp\n",
    "\n",
    "    while Connecting:\n",
    "        # Attempt connection and report result\n",
    "        try: \n",
    "            ftp = FTP(ftpserv)\n",
    "            login = ftp.login(username,password)\n",
    "            print(\"Status: \" + login)\n",
    "            if 'success' in login:\n",
    "                Connecting = False\n",
    "            else:\n",
    "                retry = input(\"Connection failed. Try again? Y or N: \".lower())\n",
    "                while True: \n",
    "                    if 'y' in retry: \n",
    "                        continue\n",
    "                    elif 'n' in retry: \n",
    "                        (\"Terminating program. Goodbye\")\n",
    "                        Running = False\n",
    "                        Connecting = False\n",
    "                        break\n",
    "                    else: \n",
    "                        print(\"Please choose Y or N!\")\n",
    "                        continue\n",
    "\n",
    "        # Raise ERROR exceptions and return to top of loop                \n",
    "        except ftplib.ERROR_perm:\n",
    "            print(\"Incorrect username! Must use 'anonymous'.\")\n",
    "            continue\n",
    "        except ftplib.all_ERRORs as e:\n",
    "            ERRORcode_string = str(e)\n",
    "            print(ERRORcode_string)\n",
    "            continue"
   ]
  },
  {
   "cell_type": "code",
   "execution_count": 3,
   "metadata": {},
   "outputs": [
    {
     "name": "stdout",
     "output_type": "stream",
     "text": [
      "Status: 230 Login successful.\n"
     ]
    }
   ],
   "source": [
    "FTP_Connect(ftpserv,username,password)"
   ]
  },
  {
   "cell_type": "code",
   "execution_count": 4,
   "metadata": {},
   "outputs": [],
   "source": [
    "# Download func    \n",
    "def Download():\n",
    "    '''\n",
    "    Receive input from user for FTP server address.\n",
    "    Receive input from user for a file path to download from FTP server. \n",
    "    '''\n",
    "    \n",
    "    Downloading = True  \n",
    "    \n",
    "    while Downloading:\n",
    "        \n",
    "        # Print out requirements\n",
    "        print(\"========== DOWNLOAD ==========\")\n",
    "        print(\"Please specify FTP server download source address, download source\" +\n",
    "              \"path and target file path.\")\n",
    "        print(\"\\nFTP REQUIREMENTS:\")\n",
    "        print(\" - Local file path must be full path, including backslash (/) at \" +\n",
    "             \"the end.\\n   Example: /home/username/Desktop/\")\n",
    "\n",
    "        # List directory contents\n",
    "        ftp.cwd('/')\n",
    "        print(\"Current directory: \" + ftp.pwd())\n",
    "        print(\"\\nPlease review contents of root directory (/) for file to download.\")\n",
    "        ftp.retrlines('LIST')\n",
    "        print(\"\\n\")\n",
    "\n",
    "        # Prompt for download file name, local path & new file name\n",
    "        dl_file_name    = input(\"File name to download: \")\n",
    "        local_file_path = input(\"Target local directory: \")\n",
    "        if local_file_path[-1:] != '/':\n",
    "            local_file_path = local_file_path + '/'\n",
    "        new_file_name   = input(\"New file name (Ex: lines.txt): \")\n",
    "        new_file_name   = local_file_path + new_file_name\n",
    "\n",
    "        # Attempt download\n",
    "        try:\n",
    "            print(\"===============================\")\n",
    "            print(\"Attempting download...\")\n",
    "            with open(new_file_name,'wb') as fh:\n",
    "            #fh = open(new_file_name,'wb')\n",
    "                download = ftp.retrbinary('RETR ' + dl_file_name, fh.write)\n",
    "                if 'Transfer complete' in download:\n",
    "                    print(\"Download successful!\")\n",
    "                    print(download)\n",
    "                else: \n",
    "                    print(\"Sorry, download failed.\")\n",
    "        except ftplib.all_ERRORs as e:\n",
    "            ERRORcode_string = str(e)\n",
    "            print(ERRORcode_string)\n",
    "            \n",
    "        # Prompt for another download  or exit\n",
    "        while True: \n",
    "            retry = input(\"\\n\\nWould you like to download another file? \\nY or N: \")\n",
    "            if 'y' in retry.lower():\n",
    "                print(\"\\n\\n\\n\")\n",
    "                break\n",
    "            elif 'n' in retry.lower():\n",
    "                print(\"\\nExiting download module.\")\n",
    "                Downloading = False\n",
    "                break\n",
    "            else: \n",
    "                print(\"Please choose Y or N!\")\n",
    "                continue\n",
    "        continue          "
   ]
  },
  {
   "cell_type": "code",
   "execution_count": 5,
   "metadata": {
    "scrolled": true
   },
   "outputs": [
    {
     "name": "stdout",
     "output_type": "stream",
     "text": [
      "========== DOWNLOAD ==========\n",
      "Please specify FTP server download source address, download sourcepath and target file path.\n",
      "\n",
      "FTP REQUIREMENTS:\n",
      " - Local file path must be full path, including backslash (/) at the end.\n",
      "   Example: /home/username/Desktop/\n",
      "Current directory: /\n",
      "\n",
      "Please review contents of root directory (/) for file to download.\n",
      "-rw-r--r--    1 0        0        1073741824000 Feb 19  2016 1000GB.zip\n",
      "-rw-r--r--    1 0        0        107374182400 Feb 19  2016 100GB.zip\n",
      "-rw-r--r--    1 0        0          102400 Feb 19  2016 100KB.zip\n",
      "-rw-r--r--    1 0        0        104857600 Feb 19  2016 100MB.zip\n",
      "-rw-r--r--    1 0        0        10737418240 Feb 19  2016 10GB.zip\n",
      "-rw-r--r--    1 0        0        10485760 Feb 19  2016 10MB.zip\n",
      "-rw-r--r--    1 0        0        1073741824 Feb 19  2016 1GB.zip\n",
      "-rw-r--r--    1 0        0            1024 Feb 19  2016 1KB.zip\n",
      "-rw-r--r--    1 0        0         1048576 Feb 19  2016 1MB.zip\n",
      "-rw-r--r--    1 0        0        209715200 Feb 19  2016 200MB.zip\n",
      "-rw-r--r--    1 0        0        20971520 Feb 19  2016 20MB.zip\n",
      "-rw-r--r--    1 0        0         2097152 Feb 19  2016 2MB.zip\n",
      "-rw-r--r--    1 0        0         3145728 Feb 19  2016 3MB.zip\n",
      "-rw-r--r--    1 0        0        524288000 Feb 19  2016 500MB.zip\n",
      "-rw-r--r--    1 0        0        52428800 Feb 19  2016 50MB.zip\n",
      "-rw-r--r--    1 0        0          524288 Feb 19  2016 512KB.zip\n",
      "-rw-r--r--    1 0        0         5242880 Feb 19  2016 5MB.zip\n",
      "drwxr-xr-x    2 105      108        561152 Mar 14 05:41 upload\n",
      "\n",
      "\n",
      "File name to download: 100KB.zip\n",
      "Target local directory: /home/ross/Desktop\n",
      "New file name (Ex: lines.txt): covid77\n",
      "===============================\n",
      "Attempting download...\n",
      "Download successful!\n",
      "226 Transfer complete.\n",
      "\n",
      "\n",
      "Would you like to download another file? \n",
      "Y or N: n\n",
      "\n",
      "Exiting download module.\n"
     ]
    }
   ],
   "source": [
    "Download()"
   ]
  },
  {
   "cell_type": "code",
   "execution_count": null,
   "metadata": {},
   "outputs": [],
   "source": []
  },
  {
   "cell_type": "code",
   "execution_count": 6,
   "metadata": {},
   "outputs": [],
   "source": [
    "def test_thing():\n",
    "    # Set variables\n",
    "    thisthing = True    \n",
    "    counter = 0\n",
    "    \n",
    "    # create loop that terminates with a boolean\n",
    "    while thisthing:\n",
    "        print(\"counter was {}\".format(counter))\n",
    "        counter += 1\n",
    "        print(\"counter is now {}\".format(counter))\n",
    "    \n",
    "        if counter == 4:\n",
    "            break\n",
    "            thisthing = False"
   ]
  },
  {
   "cell_type": "code",
   "execution_count": 7,
   "metadata": {},
   "outputs": [
    {
     "name": "stdout",
     "output_type": "stream",
     "text": [
      "counter was 0\n",
      "counter is now 1\n",
      "counter was 1\n",
      "counter is now 2\n",
      "counter was 2\n",
      "counter is now 3\n",
      "counter was 3\n",
      "counter is now 4\n"
     ]
    }
   ],
   "source": [
    "test_thing()"
   ]
  },
  {
   "cell_type": "code",
   "execution_count": null,
   "metadata": {},
   "outputs": [],
   "source": []
  }
 ],
 "metadata": {
  "kernelspec": {
   "display_name": "Python 3",
   "language": "python",
   "name": "python3"
  },
  "language_info": {
   "codemirror_mode": {
    "name": "ipython",
    "version": 3
   },
   "file_extension": ".py",
   "mimetype": "text/x-python",
   "name": "python",
   "nbconvert_exporter": "python",
   "pygments_lexer": "ipython3",
   "version": "3.7.4"
  }
 },
 "nbformat": 4,
 "nbformat_minor": 2
}
