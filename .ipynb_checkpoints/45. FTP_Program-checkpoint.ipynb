{
 "cells": [
  {
   "cell_type": "markdown",
   "metadata": {},
   "source": [
    "# FTPx - a simple FTP program"
   ]
  },
  {
   "cell_type": "code",
   "execution_count": null,
   "metadata": {},
   "outputs": [],
   "source": [
    "# 45. FTP Program\n",
    "# A file transfer program which can transfer files back and forth from a remote web sever.\n",
    "\n",
    "## Constants for testing ##\n",
    "# ftpserv = speedtest.tele2.net\n",
    "# username = anonymous\n",
    "# password = a\n",
    "# Test file path: /home/ross/Desktop/text.txt"
   ]
  },
  {
   "cell_type": "code",
   "execution_count": null,
   "metadata": {},
   "outputs": [],
   "source": [
    "# Can be deleted later as these will run as part of application\n",
    "\n",
    "# Import modules\n",
    "import ftplib\n",
    "from ftplib import FTP\n",
    "\n",
    "# Setting Globals\n",
    "Connecting = True\n",
    "Running = True"
   ]
  },
  {
   "cell_type": "markdown",
   "metadata": {},
   "source": [
    "## Functions!"
   ]
  },
  {
   "cell_type": "code",
   "execution_count": null,
   "metadata": {},
   "outputs": [],
   "source": [
    "# Connect to FTP server\n",
    "def FTP_Connect(ftpserv,username,password):\n",
    "    global Running\n",
    "    global Connecting\n",
    "    global ftp\n",
    "\n",
    "    while Connecting:\n",
    "        # Attempt connection and report result\n",
    "        try: \n",
    "            ftp = FTP(ftpserv)\n",
    "            login = ftp.login(username,password)\n",
    "            print(\"Status: \" + login)\n",
    "            if 'success' in login:\n",
    "                Connecting = False\n",
    "            else:\n",
    "                retry = input(\"Connection failed. Try again? Y or N: \".lower())\n",
    "                while True: \n",
    "                    if 'y' in retry: \n",
    "                        continue\n",
    "                    elif 'n' in retry: \n",
    "                        (\"Terminating program. Goodbye\")\n",
    "                        Running = False\n",
    "                        Connecting = False\n",
    "                        break\n",
    "                    else: \n",
    "                        print(\"Please choose Y or N!\")\n",
    "                        continue\n",
    "\n",
    "        # Raise ERROR exceptions and return to top of loop                \n",
    "        except ftplib.ERROR_perm:\n",
    "            print(\"Incorrect username! Must use 'anonymous'.\")\n",
    "            continue\n",
    "        except ftplib.all_ERRORs as e:\n",
    "            ERRORcode_string = str(e)\n",
    "            print(ERRORcode_string)\n",
    "            continue"
   ]
  },
  {
   "cell_type": "markdown",
   "metadata": {},
   "source": [
    "### Manual test fuctions"
   ]
  },
  {
   "cell_type": "code",
   "execution_count": null,
   "metadata": {},
   "outputs": [],
   "source": [
    "# Upload testing\n",
    "def upload_test():\n",
    "    ftpserv = 'speedtest.tele2.net'\n",
    "    username = 'anonymous'\n",
    "    password = 'a'\n",
    "    test_file_path = '/home/ross/Desktop/text.txt'\n",
    "    test_ftp_path  = 'upload'\n",
    "    test_new_file_name = 'yes.txt'\n",
    "\n",
    "    FTP_Connect(ftpserv,username,password)\n",
    "\n",
    "    # Change directory to FTP path\n",
    "    print(\"Current directory: \" + ftp.pwd())\n",
    "    ftp.cwd('/')\n",
    "    ftp.cwd(test_ftp_path)\n",
    "    print(\"Directory changed: {}\".format(ftp.pwd()))\n",
    "    \n",
    "    # Attempt file upload\n",
    "    print(\"\\nAttempting file upload...\\n\")\n",
    "    with open(test_file_path,'rb') as fh:\n",
    "        upload = ftp.storbinary('STOR ' + test_new_file_name, fh)\n",
    "        print(upload)\n",
    "    # ftp.storlines('STOR ' + test_new_file_name, fh)"
   ]
  },
  {
   "cell_type": "code",
   "execution_count": null,
   "metadata": {},
   "outputs": [],
   "source": [
    "# Download testing\n",
    "def download_test():\n",
    "    ftpserv = 'speedtest.tele2.net'\n",
    "    username = 'anonymous'\n",
    "    password = 'a'\n",
    "    dl_file_name = '100KB.zip'\n",
    "    local_file_path = '/home/ross/Desktop/'\n",
    "    new_file_name = '100KB-crazy2.zip'\n",
    "    new_file_name = local_file_path + new_file_name\n",
    "\n",
    "    FTP_Connect(ftpserv,username,password)\n",
    "\n",
    "    # Download file to desktop\n",
    "    print(\"\\nAttempting file download...\\n\")\n",
    "    print(\"Attempting to download {} as {}.\".format(dl_file_name,new_file_name))\n",
    "    with open(new_file_name,'wb') as fh:\n",
    "        download = ftp.retrbinary('RETR ' + dl_file_name, fh.write)\n",
    "        print(download)    "
   ]
  },
  {
   "cell_type": "code",
   "execution_count": null,
   "metadata": {
    "scrolled": false
   },
   "outputs": [],
   "source": [
    "#upload_test()"
   ]
  },
  {
   "cell_type": "code",
   "execution_count": null,
   "metadata": {},
   "outputs": [],
   "source": [
    "#download_test()"
   ]
  },
  {
   "cell_type": "markdown",
   "metadata": {},
   "source": [
    "### Upload / Download Funcs"
   ]
  },
  {
   "cell_type": "code",
   "execution_count": null,
   "metadata": {
    "scrolled": false
   },
   "outputs": [],
   "source": [
    "# Upload func\n",
    "def Upload():\n",
    "    '''\n",
    "    Receive input from user for local file path to upload, remote FTP path and desired filename.\n",
    "    User can choose to upload additional files.\n",
    "    '''\n",
    "    Uploading = True\n",
    "    \n",
    "    while Uploading: \n",
    "        # Print out requirements\n",
    "        print(\"=========== UPLOAD ===========\")\n",
    "        print(\"Please specify FTP remote target path, source file path \" +\n",
    "              \"and target name.\")\n",
    "        print(\"\\nFTP REQUIREMENTS:\")\n",
    "        print(\" - Files must be uploaded to 'upload' folder.\")\n",
    "        print(\" - New folders cannot be created.\\n\")\n",
    "\n",
    "        # Prompt for local file path, FTP path and new filename \n",
    "        local_file_path = input(\"File path (Local): \")    \n",
    "        ftp_path  = input(\"FTP  path (Remote): \")\n",
    "        new_file_name = input(\"New file name (Ex: lines.txt): \")\n",
    "\n",
    "        # Change directory to FTP path\n",
    "        print(\"Current directory: \" + ftp.pwd())\n",
    "        ftp.cwd('/')\n",
    "        ftp.cwd(ftp_path)\n",
    "        print(\"Directory changed: {}\".format(ftp.pwd()))\n",
    "        \n",
    "        # Attempt file upload\n",
    "        try: \n",
    "            print(\"\\nAttempting file upload...\\n\")\n",
    "            with open(local_file_path,'rb') as fh:\n",
    "                upload = ftp.storbinary('STOR ' + new_file_name, fh)\n",
    "                #fh = open(local_file_path,'r')   # had to switch to binary??\n",
    "                #upload = ftp.storlines('STOR ' + new_file_name, fh)\n",
    "                if 'Transfer complete' in upload:\n",
    "                    print(\"File uploaded successfully!\")\n",
    "                    print(upload)\n",
    "                else: \n",
    "                    print(\"Sorry, upload failed.\")\n",
    "                    print(upload)\n",
    "        except FileNotFoundError:\n",
    "            print(\"\\nERROR! Path not found or is invalid. Please \" +\n",
    "                  \"correct your file path and try again.\")                    \n",
    "        except ftplib.all_ERRORs as e:\n",
    "            ERRORcode_string = str(e)\n",
    "            print(ERRORcode_string)\n",
    "            \n",
    "        # Prompt for another upload or exit \n",
    "        while True: \n",
    "            retry = input(\"\\n\\nWould you like to upload another file? \\nY or N: \").lower()\n",
    "            if 'y' in retry: \n",
    "                break\n",
    "            elif 'n' in retry:\n",
    "                print(\"\\nExiting upload module.\")\n",
    "                Uploading = False\n",
    "                break\n",
    "            else: \n",
    "                print(\"Please choose Y or N!\")\n",
    "                continue\n",
    "        continue"
   ]
  },
  {
   "cell_type": "code",
   "execution_count": null,
   "metadata": {},
   "outputs": [],
   "source": [
    "# Upload()"
   ]
  },
  {
   "cell_type": "code",
   "execution_count": 1,
   "metadata": {},
   "outputs": [],
   "source": [
    "# Download func    \n",
    "def Download():\n",
    "    '''\n",
    "    Receive input from user for FTP server address.\n",
    "    Receive input from user for a file path to download from FTP server. \n",
    "    '''\n",
    "    \n",
    "    Downloading = True  \n",
    "    \n",
    "    while Downloading:\n",
    "        \n",
    "        # Print out requirements\n",
    "        print(\"========== DOWNLOAD ==========\")\n",
    "        print(\"Please specify FTP server download source address, download source\" +\n",
    "              \"path and target file path.\")\n",
    "        print(\"\\nFTP REQUIREMENTS:\")\n",
    "        print(\" - Local file path must be full path, including backslash (/) at \" +\n",
    "             \"the end.\\n   Example: /home/username/Desktop/\")\n",
    "\n",
    "        # List directory contents\n",
    "        ftp.cwd('/')\n",
    "        print(\"Current directory: \" + ftp.pwd())\n",
    "        print(\"\\nPlease review contents of root directory (/) for file to download.\")\n",
    "        ftp.retrlines('LIST')\n",
    "        print(\"\\n\")\n",
    "\n",
    "        # Prompt for download file name, local path & new file name\n",
    "        dl_file_name    = input(\"File name to download: \")\n",
    "        local_file_path = input(\"Target local directory: \")\n",
    "        if local_file_path[-1:] != '/':       # add '/' to filename if it isn't there\n",
    "            local_file_path = local_file_path + '/'\n",
    "        new_file_name   = input(\"New file name (Ex: lines.txt): \")\n",
    "        new_file_name   = local_file_path + new_file_name\n",
    "\n",
    "        # Attempt download\n",
    "        try:\n",
    "            print(\"\\n\\n===============================\")\n",
    "            print(\"Attempting download...\")\n",
    "            with open(new_file_name,'wb') as fh:\n",
    "            #fh = open(new_file_name,'wb')\n",
    "                download = ftp.retrbinary('RETR ' + dl_file_name, fh.write)\n",
    "                if 'Transfer complete' in download:\n",
    "                    print(\"Download successful!\")\n",
    "                    print(download)\n",
    "                else: \n",
    "                    print(\"Sorry, download failed.\")\n",
    "        except FileNotFoundError:\n",
    "            print(\"\\nERROR! File not found or path is invalid. Please \" +\n",
    "                  \"correct your file path and try again.\")\n",
    "        except ftplib.all_ERRORs as e:\n",
    "            ERRORcode_string = str(e)\n",
    "            print(ERRORcode_string)\n",
    "            \n",
    "        # Prompt for another download  or exit\n",
    "        while True: \n",
    "            retry = input(\"\\n\\nWould you like to download another file? \\nY or N: \")\n",
    "            if 'y' in retry.lower():\n",
    "                print(\"\\n\")\n",
    "                break\n",
    "            elif 'n' in retry.lower():\n",
    "                print(\"\\nExiting download module.\")\n",
    "                Downloading = False\n",
    "                break\n",
    "            else: \n",
    "                print(\"Please choose Y or N!\")\n",
    "                continue\n",
    "        continue "
   ]
  },
  {
   "cell_type": "code",
   "execution_count": null,
   "metadata": {
    "scrolled": false
   },
   "outputs": [],
   "source": [
    "# Download()"
   ]
  },
  {
   "cell_type": "markdown",
   "metadata": {},
   "source": [
    "   "
   ]
  },
  {
   "cell_type": "code",
   "execution_count": null,
   "metadata": {
    "scrolled": false
   },
   "outputs": [],
   "source": [
    "####################\n",
    "##  Run Program   ##\n",
    "####################\n",
    "def main():\n",
    "    '''\n",
    "    Run main bit of application via FTPx.py.\n",
    "    '''    \n",
    "    Running = True\n",
    "\n",
    "    while Running:\n",
    "        # Welcome user, display intro\n",
    "        print(\"=========== FTPx ============\")\n",
    "        print(\"      Welcome to FTPx.\\n\")\n",
    "        print(\"FTPx is an FTP program that can be used to \\n\" + \n",
    "                \"upload and download files from an FTP server.\")\n",
    "\n",
    "        # Prompt for FTP address\n",
    "        print(\"\\n\\n========== CONNECT ==========\")\n",
    "        print(\"FTP REQUIREMENTS:\")\n",
    "        print(\" - FTP address does not need prefix \\\"https://\\\"\")\n",
    "        print(\" - FTP default port is 21.\")\n",
    "        print(\" - If custom port is needed please add suffix\" +\n",
    "            \"\\n   (ex www.domainftp.org:69)\")\n",
    "        ftpserv = input(\"\\nFTP Server Address: \")\n",
    "\n",
    "        # Prompt for credentials\n",
    "        print(\"\\n\\n========== LOGIN ===========\")\n",
    "        username = input(\"Please enter username: \")\n",
    "        password = input(\"Please enter password: \")    \n",
    "        print(\"\\n\\n==============================\")\n",
    "        print(\"Attempting to connect to FTP server...\")\n",
    "\n",
    "        # Attempt connection and login\n",
    "        FTP_Connect(ftpserv,username,password)\n",
    "\n",
    "        # Display option menu \n",
    "        while True:\n",
    "            try: \n",
    "                print(\"\\n\\n=========== OPTIONS ===========\")\n",
    "                print(\"Choose an option\")\n",
    "                print(\"1. Upload\\n2. Download\\n3. Exit\\n\")\n",
    "                option = int(input(\"Enter a number: \"))\n",
    "                print(\"\\n\")\n",
    "\n",
    "                if option == 1:\n",
    "                    Upload()            \n",
    "                elif option == 2:          \n",
    "                    Download()\n",
    "                elif option == 3:\n",
    "                    print(\"============ EXIT =============\")\n",
    "                    print(\"Terminating program...\")\n",
    "                    print(\"Connection status: {}\".format(ftp.quit()))\n",
    "                    Running = False\n",
    "                    break            \n",
    "                else: \n",
    "                    print(\"ERROR! Please choose a number option between 1 and 3!\")\n",
    "\n",
    "            except ValueError: \n",
    "                print(\"ERROR! Value must be an integer!\\n\")\n",
    "                continue "
   ]
  },
  {
   "cell_type": "code",
   "execution_count": null,
   "metadata": {},
   "outputs": [],
   "source": [
    "## Constants for testing ##\n",
    "# ftpserv = speedtest.tele2.net\n",
    "# username = anonymous\n",
    "# password = a\n",
    "# Test file path: \n",
    "# /home/ross/Desktop/text.txt"
   ]
  }
 ],
 "metadata": {
  "kernelspec": {
   "display_name": "Python 3",
   "language": "python",
   "name": "python3"
  },
  "language_info": {
   "codemirror_mode": {
    "name": "ipython",
    "version": 3
   },
   "file_extension": ".py",
   "mimetype": "text/x-python",
   "name": "python",
   "nbconvert_exporter": "python",
   "pygments_lexer": "ipython3",
   "version": "3.7.4"
  }
 },
 "nbformat": 4,
 "nbformat_minor": 2
}
